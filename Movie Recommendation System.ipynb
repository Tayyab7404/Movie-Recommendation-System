{
 "cells": [
  {
   "cell_type": "markdown",
   "metadata": {
    "id": "hRPcInxXCHCU"
   },
   "source": [
    " # **Movie Recommendation System**"
   ]
  },
  {
   "cell_type": "markdown",
   "metadata": {
    "id": "FPY3cT7fH4el"
   },
   "source": [
    "**Import Libraries**"
   ]
  },
  {
   "cell_type": "code",
   "execution_count": 1,
   "metadata": {
    "id": "v2bQMouGKzpY"
   },
   "outputs": [],
   "source": [
    "import numpy as np\n",
    "import pandas as pd"
   ]
  },
  {
   "cell_type": "markdown",
   "metadata": {
    "id": "aQN3fAxrK-d7"
   },
   "source": [
    "**Import Data**"
   ]
  },
  {
   "cell_type": "code",
   "execution_count": 2,
   "metadata": {
    "id": "fE7cMvvPLNTu"
   },
   "outputs": [],
   "source": [
    "data = pd.read_csv('Movies.csv')"
   ]
  },
  {
   "cell_type": "code",
   "execution_count": 3,
   "metadata": {
    "id": "3haX1uk3LTMG",
    "outputId": "b7c7c4d3-316f-4a0f-ceaf-78f9188fb087"
   },
   "outputs": [
    {
     "data": {
      "text/html": [
       "<div>\n",
       "<style scoped>\n",
       "    .dataframe tbody tr th:only-of-type {\n",
       "        vertical-align: middle;\n",
       "    }\n",
       "\n",
       "    .dataframe tbody tr th {\n",
       "        vertical-align: top;\n",
       "    }\n",
       "\n",
       "    .dataframe thead th {\n",
       "        text-align: right;\n",
       "    }\n",
       "</style>\n",
       "<table border=\"1\" class=\"dataframe\">\n",
       "  <thead>\n",
       "    <tr style=\"text-align: right;\">\n",
       "      <th></th>\n",
       "      <th>Movie_ID</th>\n",
       "      <th>Movie_Title</th>\n",
       "      <th>Movie_Genre</th>\n",
       "      <th>Movie_Language</th>\n",
       "      <th>Movie_Budget</th>\n",
       "      <th>Movie_Popularity</th>\n",
       "      <th>Movie_Release_Date</th>\n",
       "      <th>Movie_Revenue</th>\n",
       "      <th>Movie_Runtime</th>\n",
       "      <th>Movie_Vote</th>\n",
       "      <th>...</th>\n",
       "      <th>Movie_Homepage</th>\n",
       "      <th>Movie_Keywords</th>\n",
       "      <th>Movie_Overview</th>\n",
       "      <th>Movie_Production_House</th>\n",
       "      <th>Movie_Production_Country</th>\n",
       "      <th>Movie_Spoken_Language</th>\n",
       "      <th>Movie_Tagline</th>\n",
       "      <th>Movie_Cast</th>\n",
       "      <th>Movie_Crew</th>\n",
       "      <th>Movie_Director</th>\n",
       "    </tr>\n",
       "  </thead>\n",
       "  <tbody>\n",
       "    <tr>\n",
       "      <th>0</th>\n",
       "      <td>1</td>\n",
       "      <td>Four Rooms</td>\n",
       "      <td>Crime Comedy</td>\n",
       "      <td>en</td>\n",
       "      <td>4000000</td>\n",
       "      <td>22.876230</td>\n",
       "      <td>09-12-1995</td>\n",
       "      <td>4300000</td>\n",
       "      <td>98.0</td>\n",
       "      <td>6.5</td>\n",
       "      <td>...</td>\n",
       "      <td>NaN</td>\n",
       "      <td>hotel new year's eve witch bet hotel room</td>\n",
       "      <td>It's Ted the Bellhop's first night on the job....</td>\n",
       "      <td>[{\"name\": \"Miramax Films\", \"id\": 14}, {\"name\":...</td>\n",
       "      <td>[{\"iso_3166_1\": \"US\", \"name\": \"United States o...</td>\n",
       "      <td>[{\"iso_639_1\": \"en\", \"name\": \"English\"}]</td>\n",
       "      <td>Twelve outrageous guests. Four scandalous requ...</td>\n",
       "      <td>Tim Roth Antonio Banderas Jennifer Beals Madon...</td>\n",
       "      <td>[{'name': 'Allison Anders', 'gender': 1, 'depa...</td>\n",
       "      <td>Allison Anders</td>\n",
       "    </tr>\n",
       "    <tr>\n",
       "      <th>1</th>\n",
       "      <td>2</td>\n",
       "      <td>Star Wars</td>\n",
       "      <td>Adventure Action Science Fiction</td>\n",
       "      <td>en</td>\n",
       "      <td>11000000</td>\n",
       "      <td>126.393695</td>\n",
       "      <td>25-05-1977</td>\n",
       "      <td>775398007</td>\n",
       "      <td>121.0</td>\n",
       "      <td>8.1</td>\n",
       "      <td>...</td>\n",
       "      <td>http://www.starwars.com/films/star-wars-episod...</td>\n",
       "      <td>android galaxy hermit death star lightsaber</td>\n",
       "      <td>Princess Leia is captured and held hostage by ...</td>\n",
       "      <td>[{\"name\": \"Lucasfilm\", \"id\": 1}, {\"name\": \"Twe...</td>\n",
       "      <td>[{\"iso_3166_1\": \"US\", \"name\": \"United States o...</td>\n",
       "      <td>[{\"iso_639_1\": \"en\", \"name\": \"English\"}]</td>\n",
       "      <td>A long time ago in a galaxy far, far away...</td>\n",
       "      <td>Mark Hamill Harrison Ford Carrie Fisher Peter ...</td>\n",
       "      <td>[{'name': 'George Lucas', 'gender': 2, 'depart...</td>\n",
       "      <td>George Lucas</td>\n",
       "    </tr>\n",
       "    <tr>\n",
       "      <th>2</th>\n",
       "      <td>3</td>\n",
       "      <td>Finding Nemo</td>\n",
       "      <td>Animation Family</td>\n",
       "      <td>en</td>\n",
       "      <td>94000000</td>\n",
       "      <td>85.688789</td>\n",
       "      <td>30-05-2003</td>\n",
       "      <td>940335536</td>\n",
       "      <td>100.0</td>\n",
       "      <td>7.6</td>\n",
       "      <td>...</td>\n",
       "      <td>http://movies.disney.com/finding-nemo</td>\n",
       "      <td>father son relationship harbor underwater fish...</td>\n",
       "      <td>Nemo, an adventurous young clownfish, is unexp...</td>\n",
       "      <td>[{\"name\": \"Pixar Animation Studios\", \"id\": 3}]</td>\n",
       "      <td>[{\"iso_3166_1\": \"US\", \"name\": \"United States o...</td>\n",
       "      <td>[{\"iso_639_1\": \"en\", \"name\": \"English\"}]</td>\n",
       "      <td>There are 3.7 trillion fish in the ocean, they...</td>\n",
       "      <td>Albert Brooks Ellen DeGeneres Alexander Gould ...</td>\n",
       "      <td>[{'name': 'Andrew Stanton', 'gender': 2, 'depa...</td>\n",
       "      <td>Andrew Stanton</td>\n",
       "    </tr>\n",
       "    <tr>\n",
       "      <th>3</th>\n",
       "      <td>4</td>\n",
       "      <td>Forrest Gump</td>\n",
       "      <td>Comedy Drama Romance</td>\n",
       "      <td>en</td>\n",
       "      <td>55000000</td>\n",
       "      <td>138.133331</td>\n",
       "      <td>06-07-1994</td>\n",
       "      <td>677945399</td>\n",
       "      <td>142.0</td>\n",
       "      <td>8.2</td>\n",
       "      <td>...</td>\n",
       "      <td>NaN</td>\n",
       "      <td>vietnam veteran hippie mentally disabled runni...</td>\n",
       "      <td>A man with a low IQ has accomplished great thi...</td>\n",
       "      <td>[{\"name\": \"Paramount Pictures\", \"id\": 4}]</td>\n",
       "      <td>[{\"iso_3166_1\": \"US\", \"name\": \"United States o...</td>\n",
       "      <td>[{\"iso_639_1\": \"en\", \"name\": \"English\"}]</td>\n",
       "      <td>The world will never be the same, once you've ...</td>\n",
       "      <td>Tom Hanks Robin Wright Gary Sinise Mykelti Wil...</td>\n",
       "      <td>[{'name': 'Alan Silvestri', 'gender': 2, 'depa...</td>\n",
       "      <td>Robert Zemeckis</td>\n",
       "    </tr>\n",
       "    <tr>\n",
       "      <th>4</th>\n",
       "      <td>5</td>\n",
       "      <td>American Beauty</td>\n",
       "      <td>Drama</td>\n",
       "      <td>en</td>\n",
       "      <td>15000000</td>\n",
       "      <td>80.878605</td>\n",
       "      <td>15-09-1999</td>\n",
       "      <td>356296601</td>\n",
       "      <td>122.0</td>\n",
       "      <td>7.9</td>\n",
       "      <td>...</td>\n",
       "      <td>http://www.dreamworks.com/ab/</td>\n",
       "      <td>male nudity female nudity adultery midlife cri...</td>\n",
       "      <td>Lester Burnham, a depressed suburban father in...</td>\n",
       "      <td>[{\"name\": \"DreamWorks SKG\", \"id\": 27}, {\"name\"...</td>\n",
       "      <td>[{\"iso_3166_1\": \"US\", \"name\": \"United States o...</td>\n",
       "      <td>[{\"iso_639_1\": \"en\", \"name\": \"English\"}]</td>\n",
       "      <td>Look closer.</td>\n",
       "      <td>Kevin Spacey Annette Bening Thora Birch Wes Be...</td>\n",
       "      <td>[{'name': 'Thomas Newman', 'gender': 2, 'depar...</td>\n",
       "      <td>Sam Mendes</td>\n",
       "    </tr>\n",
       "    <tr>\n",
       "      <th>...</th>\n",
       "      <td>...</td>\n",
       "      <td>...</td>\n",
       "      <td>...</td>\n",
       "      <td>...</td>\n",
       "      <td>...</td>\n",
       "      <td>...</td>\n",
       "      <td>...</td>\n",
       "      <td>...</td>\n",
       "      <td>...</td>\n",
       "      <td>...</td>\n",
       "      <td>...</td>\n",
       "      <td>...</td>\n",
       "      <td>...</td>\n",
       "      <td>...</td>\n",
       "      <td>...</td>\n",
       "      <td>...</td>\n",
       "      <td>...</td>\n",
       "      <td>...</td>\n",
       "      <td>...</td>\n",
       "      <td>...</td>\n",
       "      <td>...</td>\n",
       "    </tr>\n",
       "    <tr>\n",
       "      <th>4755</th>\n",
       "      <td>4784</td>\n",
       "      <td>Midnight Cabaret</td>\n",
       "      <td>Horror</td>\n",
       "      <td>en</td>\n",
       "      <td>0</td>\n",
       "      <td>0.001389</td>\n",
       "      <td>01-01-1990</td>\n",
       "      <td>0</td>\n",
       "      <td>94.0</td>\n",
       "      <td>0.0</td>\n",
       "      <td>...</td>\n",
       "      <td>NaN</td>\n",
       "      <td>NaN</td>\n",
       "      <td>A Broadway producer puts on a play with a Devi...</td>\n",
       "      <td>[]</td>\n",
       "      <td>[]</td>\n",
       "      <td>[{\"iso_639_1\": \"en\", \"name\": \"English\"}]</td>\n",
       "      <td>The hot spot where Satan's waitin'.</td>\n",
       "      <td>Lisa Hart Carroll Michael Des Barres Paul Drak...</td>\n",
       "      <td>[{'name': 'Pece Dingo', 'gender': 0, 'departme...</td>\n",
       "      <td>Pece Dingo</td>\n",
       "    </tr>\n",
       "    <tr>\n",
       "      <th>4756</th>\n",
       "      <td>4785</td>\n",
       "      <td>Growing Up Smith</td>\n",
       "      <td>Comedy Family Drama</td>\n",
       "      <td>en</td>\n",
       "      <td>0</td>\n",
       "      <td>0.710870</td>\n",
       "      <td>03-02-2017</td>\n",
       "      <td>0</td>\n",
       "      <td>102.0</td>\n",
       "      <td>7.4</td>\n",
       "      <td>...</td>\n",
       "      <td>http://www.growingupsmithmovie.com</td>\n",
       "      <td>NaN</td>\n",
       "      <td>In 1979, an Indian family moves to America wit...</td>\n",
       "      <td>[]</td>\n",
       "      <td>[]</td>\n",
       "      <td>[{\"iso_639_1\": \"en\", \"name\": \"English\"}]</td>\n",
       "      <td>It’s better to stand out than to fit in.</td>\n",
       "      <td>Roni Akurati Brighton Sharbino Jason Lee Anjul...</td>\n",
       "      <td>[{'name': 'Frank Lotito', 'gender': 0, 'depart...</td>\n",
       "      <td>Frank Lotito</td>\n",
       "    </tr>\n",
       "    <tr>\n",
       "      <th>4757</th>\n",
       "      <td>4786</td>\n",
       "      <td>8 Days</td>\n",
       "      <td>Thriller Drama</td>\n",
       "      <td>en</td>\n",
       "      <td>0</td>\n",
       "      <td>0.015295</td>\n",
       "      <td>15-06-2014</td>\n",
       "      <td>0</td>\n",
       "      <td>90.0</td>\n",
       "      <td>0.0</td>\n",
       "      <td>...</td>\n",
       "      <td>NaN</td>\n",
       "      <td>christian film sex trafficking</td>\n",
       "      <td>After sneaking to a party with her friends, 16...</td>\n",
       "      <td>[{\"name\": \"After Eden Pictures\", \"id\": 85248}]</td>\n",
       "      <td>[{\"iso_3166_1\": \"US\", \"name\": \"United States o...</td>\n",
       "      <td>[{\"iso_639_1\": \"en\", \"name\": \"English\"}]</td>\n",
       "      <td>She never knew it could happen to her...</td>\n",
       "      <td>Nicole Smolen Kim Baldwin Ariana Stephens Brys...</td>\n",
       "      <td>[{'name': 'Jaco Booyens', 'gender': 0, 'depart...</td>\n",
       "      <td>Jaco Booyens</td>\n",
       "    </tr>\n",
       "    <tr>\n",
       "      <th>4758</th>\n",
       "      <td>4787</td>\n",
       "      <td>Running Forever</td>\n",
       "      <td>Family</td>\n",
       "      <td>en</td>\n",
       "      <td>0</td>\n",
       "      <td>0.028756</td>\n",
       "      <td>27-10-2015</td>\n",
       "      <td>0</td>\n",
       "      <td>88.0</td>\n",
       "      <td>0.0</td>\n",
       "      <td>...</td>\n",
       "      <td>NaN</td>\n",
       "      <td>NaN</td>\n",
       "      <td>After being estranged since her mother's death...</td>\n",
       "      <td>[{\"name\": \"New Kingdom Pictures\", \"id\": 41671}]</td>\n",
       "      <td>[{\"iso_3166_1\": \"US\", \"name\": \"United States o...</td>\n",
       "      <td>[]</td>\n",
       "      <td>NaN</td>\n",
       "      <td>NaN</td>\n",
       "      <td>[]</td>\n",
       "      <td>NaN</td>\n",
       "    </tr>\n",
       "    <tr>\n",
       "      <th>4759</th>\n",
       "      <td>4788</td>\n",
       "      <td>To Be Frank, Sinatra at 100</td>\n",
       "      <td>Documentary</td>\n",
       "      <td>en</td>\n",
       "      <td>2</td>\n",
       "      <td>0.050625</td>\n",
       "      <td>12-12-2015</td>\n",
       "      <td>0</td>\n",
       "      <td>NaN</td>\n",
       "      <td>0.0</td>\n",
       "      <td>...</td>\n",
       "      <td>NaN</td>\n",
       "      <td>music actors legendary perfomer classic hollyw...</td>\n",
       "      <td>NaN</td>\n",
       "      <td>[{\"name\": \"Eyeline Entertainment\", \"id\": 60343}]</td>\n",
       "      <td>[{\"iso_3166_1\": \"GB\", \"name\": \"United Kingdom\"}]</td>\n",
       "      <td>[]</td>\n",
       "      <td>NaN</td>\n",
       "      <td>Tony Oppedisano</td>\n",
       "      <td>[{'name': 'Simon Napier-Bell', 'gender': 0, 'd...</td>\n",
       "      <td>Simon Napier-Bell</td>\n",
       "    </tr>\n",
       "  </tbody>\n",
       "</table>\n",
       "<p>4760 rows × 21 columns</p>\n",
       "</div>"
      ],
      "text/plain": [
       "      Movie_ID                  Movie_Title                       Movie_Genre  \\\n",
       "0            1                   Four Rooms                      Crime Comedy   \n",
       "1            2                    Star Wars  Adventure Action Science Fiction   \n",
       "2            3                 Finding Nemo                  Animation Family   \n",
       "3            4                 Forrest Gump              Comedy Drama Romance   \n",
       "4            5              American Beauty                             Drama   \n",
       "...        ...                          ...                               ...   \n",
       "4755      4784             Midnight Cabaret                            Horror   \n",
       "4756      4785             Growing Up Smith               Comedy Family Drama   \n",
       "4757      4786                       8 Days                    Thriller Drama   \n",
       "4758      4787              Running Forever                            Family   \n",
       "4759      4788  To Be Frank, Sinatra at 100                       Documentary   \n",
       "\n",
       "     Movie_Language  Movie_Budget  Movie_Popularity Movie_Release_Date  \\\n",
       "0                en       4000000         22.876230         09-12-1995   \n",
       "1                en      11000000        126.393695         25-05-1977   \n",
       "2                en      94000000         85.688789         30-05-2003   \n",
       "3                en      55000000        138.133331         06-07-1994   \n",
       "4                en      15000000         80.878605         15-09-1999   \n",
       "...             ...           ...               ...                ...   \n",
       "4755             en             0          0.001389         01-01-1990   \n",
       "4756             en             0          0.710870         03-02-2017   \n",
       "4757             en             0          0.015295         15-06-2014   \n",
       "4758             en             0          0.028756         27-10-2015   \n",
       "4759             en             2          0.050625         12-12-2015   \n",
       "\n",
       "      Movie_Revenue  Movie_Runtime  Movie_Vote  ...  \\\n",
       "0           4300000           98.0         6.5  ...   \n",
       "1         775398007          121.0         8.1  ...   \n",
       "2         940335536          100.0         7.6  ...   \n",
       "3         677945399          142.0         8.2  ...   \n",
       "4         356296601          122.0         7.9  ...   \n",
       "...             ...            ...         ...  ...   \n",
       "4755              0           94.0         0.0  ...   \n",
       "4756              0          102.0         7.4  ...   \n",
       "4757              0           90.0         0.0  ...   \n",
       "4758              0           88.0         0.0  ...   \n",
       "4759              0            NaN         0.0  ...   \n",
       "\n",
       "                                         Movie_Homepage  \\\n",
       "0                                                   NaN   \n",
       "1     http://www.starwars.com/films/star-wars-episod...   \n",
       "2                 http://movies.disney.com/finding-nemo   \n",
       "3                                                   NaN   \n",
       "4                         http://www.dreamworks.com/ab/   \n",
       "...                                                 ...   \n",
       "4755                                                NaN   \n",
       "4756                 http://www.growingupsmithmovie.com   \n",
       "4757                                                NaN   \n",
       "4758                                                NaN   \n",
       "4759                                                NaN   \n",
       "\n",
       "                                         Movie_Keywords  \\\n",
       "0             hotel new year's eve witch bet hotel room   \n",
       "1           android galaxy hermit death star lightsaber   \n",
       "2     father son relationship harbor underwater fish...   \n",
       "3     vietnam veteran hippie mentally disabled runni...   \n",
       "4     male nudity female nudity adultery midlife cri...   \n",
       "...                                                 ...   \n",
       "4755                                                NaN   \n",
       "4756                                                NaN   \n",
       "4757                     christian film sex trafficking   \n",
       "4758                                                NaN   \n",
       "4759  music actors legendary perfomer classic hollyw...   \n",
       "\n",
       "                                         Movie_Overview  \\\n",
       "0     It's Ted the Bellhop's first night on the job....   \n",
       "1     Princess Leia is captured and held hostage by ...   \n",
       "2     Nemo, an adventurous young clownfish, is unexp...   \n",
       "3     A man with a low IQ has accomplished great thi...   \n",
       "4     Lester Burnham, a depressed suburban father in...   \n",
       "...                                                 ...   \n",
       "4755  A Broadway producer puts on a play with a Devi...   \n",
       "4756  In 1979, an Indian family moves to America wit...   \n",
       "4757  After sneaking to a party with her friends, 16...   \n",
       "4758  After being estranged since her mother's death...   \n",
       "4759                                                NaN   \n",
       "\n",
       "                                 Movie_Production_House  \\\n",
       "0     [{\"name\": \"Miramax Films\", \"id\": 14}, {\"name\":...   \n",
       "1     [{\"name\": \"Lucasfilm\", \"id\": 1}, {\"name\": \"Twe...   \n",
       "2        [{\"name\": \"Pixar Animation Studios\", \"id\": 3}]   \n",
       "3             [{\"name\": \"Paramount Pictures\", \"id\": 4}]   \n",
       "4     [{\"name\": \"DreamWorks SKG\", \"id\": 27}, {\"name\"...   \n",
       "...                                                 ...   \n",
       "4755                                                 []   \n",
       "4756                                                 []   \n",
       "4757     [{\"name\": \"After Eden Pictures\", \"id\": 85248}]   \n",
       "4758    [{\"name\": \"New Kingdom Pictures\", \"id\": 41671}]   \n",
       "4759   [{\"name\": \"Eyeline Entertainment\", \"id\": 60343}]   \n",
       "\n",
       "                               Movie_Production_Country  \\\n",
       "0     [{\"iso_3166_1\": \"US\", \"name\": \"United States o...   \n",
       "1     [{\"iso_3166_1\": \"US\", \"name\": \"United States o...   \n",
       "2     [{\"iso_3166_1\": \"US\", \"name\": \"United States o...   \n",
       "3     [{\"iso_3166_1\": \"US\", \"name\": \"United States o...   \n",
       "4     [{\"iso_3166_1\": \"US\", \"name\": \"United States o...   \n",
       "...                                                 ...   \n",
       "4755                                                 []   \n",
       "4756                                                 []   \n",
       "4757  [{\"iso_3166_1\": \"US\", \"name\": \"United States o...   \n",
       "4758  [{\"iso_3166_1\": \"US\", \"name\": \"United States o...   \n",
       "4759   [{\"iso_3166_1\": \"GB\", \"name\": \"United Kingdom\"}]   \n",
       "\n",
       "                         Movie_Spoken_Language  \\\n",
       "0     [{\"iso_639_1\": \"en\", \"name\": \"English\"}]   \n",
       "1     [{\"iso_639_1\": \"en\", \"name\": \"English\"}]   \n",
       "2     [{\"iso_639_1\": \"en\", \"name\": \"English\"}]   \n",
       "3     [{\"iso_639_1\": \"en\", \"name\": \"English\"}]   \n",
       "4     [{\"iso_639_1\": \"en\", \"name\": \"English\"}]   \n",
       "...                                        ...   \n",
       "4755  [{\"iso_639_1\": \"en\", \"name\": \"English\"}]   \n",
       "4756  [{\"iso_639_1\": \"en\", \"name\": \"English\"}]   \n",
       "4757  [{\"iso_639_1\": \"en\", \"name\": \"English\"}]   \n",
       "4758                                        []   \n",
       "4759                                        []   \n",
       "\n",
       "                                          Movie_Tagline  \\\n",
       "0     Twelve outrageous guests. Four scandalous requ...   \n",
       "1          A long time ago in a galaxy far, far away...   \n",
       "2     There are 3.7 trillion fish in the ocean, they...   \n",
       "3     The world will never be the same, once you've ...   \n",
       "4                                          Look closer.   \n",
       "...                                                 ...   \n",
       "4755                The hot spot where Satan's waitin'.   \n",
       "4756           It’s better to stand out than to fit in.   \n",
       "4757           She never knew it could happen to her...   \n",
       "4758                                                NaN   \n",
       "4759                                                NaN   \n",
       "\n",
       "                                             Movie_Cast  \\\n",
       "0     Tim Roth Antonio Banderas Jennifer Beals Madon...   \n",
       "1     Mark Hamill Harrison Ford Carrie Fisher Peter ...   \n",
       "2     Albert Brooks Ellen DeGeneres Alexander Gould ...   \n",
       "3     Tom Hanks Robin Wright Gary Sinise Mykelti Wil...   \n",
       "4     Kevin Spacey Annette Bening Thora Birch Wes Be...   \n",
       "...                                                 ...   \n",
       "4755  Lisa Hart Carroll Michael Des Barres Paul Drak...   \n",
       "4756  Roni Akurati Brighton Sharbino Jason Lee Anjul...   \n",
       "4757  Nicole Smolen Kim Baldwin Ariana Stephens Brys...   \n",
       "4758                                                NaN   \n",
       "4759                                    Tony Oppedisano   \n",
       "\n",
       "                                             Movie_Crew     Movie_Director  \n",
       "0     [{'name': 'Allison Anders', 'gender': 1, 'depa...     Allison Anders  \n",
       "1     [{'name': 'George Lucas', 'gender': 2, 'depart...       George Lucas  \n",
       "2     [{'name': 'Andrew Stanton', 'gender': 2, 'depa...     Andrew Stanton  \n",
       "3     [{'name': 'Alan Silvestri', 'gender': 2, 'depa...    Robert Zemeckis  \n",
       "4     [{'name': 'Thomas Newman', 'gender': 2, 'depar...         Sam Mendes  \n",
       "...                                                 ...                ...  \n",
       "4755  [{'name': 'Pece Dingo', 'gender': 0, 'departme...         Pece Dingo  \n",
       "4756  [{'name': 'Frank Lotito', 'gender': 0, 'depart...       Frank Lotito  \n",
       "4757  [{'name': 'Jaco Booyens', 'gender': 0, 'depart...       Jaco Booyens  \n",
       "4758                                                 []                NaN  \n",
       "4759  [{'name': 'Simon Napier-Bell', 'gender': 0, 'd...  Simon Napier-Bell  \n",
       "\n",
       "[4760 rows x 21 columns]"
      ]
     },
     "metadata": {},
     "output_type": "display_data"
    }
   ],
   "source": [
    "display(data)"
   ]
  },
  {
   "cell_type": "markdown",
   "metadata": {
    "id": "9ZKwvopWLt6s"
   },
   "source": [
    "**Data Description:**"
   ]
  },
  {
   "cell_type": "code",
   "execution_count": 4,
   "metadata": {
    "id": "-uRMEZ43L9tN",
    "outputId": "a4e4c065-141e-4e0f-987d-ed0c761c0e57"
   },
   "outputs": [
    {
     "name": "stdout",
     "output_type": "stream",
     "text": [
      "<class 'pandas.core.frame.DataFrame'>\n",
      "RangeIndex: 4760 entries, 0 to 4759\n",
      "Data columns (total 21 columns):\n",
      " #   Column                    Non-Null Count  Dtype  \n",
      "---  ------                    --------------  -----  \n",
      " 0   Movie_ID                  4760 non-null   int64  \n",
      " 1   Movie_Title               4760 non-null   object \n",
      " 2   Movie_Genre               4760 non-null   object \n",
      " 3   Movie_Language            4760 non-null   object \n",
      " 4   Movie_Budget              4760 non-null   int64  \n",
      " 5   Movie_Popularity          4760 non-null   float64\n",
      " 6   Movie_Release_Date        4760 non-null   object \n",
      " 7   Movie_Revenue             4760 non-null   int64  \n",
      " 8   Movie_Runtime             4758 non-null   float64\n",
      " 9   Movie_Vote                4760 non-null   float64\n",
      " 10  Movie_Vote_Count          4760 non-null   int64  \n",
      " 11  Movie_Homepage            1699 non-null   object \n",
      " 12  Movie_Keywords            4373 non-null   object \n",
      " 13  Movie_Overview            4757 non-null   object \n",
      " 14  Movie_Production_House    4760 non-null   object \n",
      " 15  Movie_Production_Country  4760 non-null   object \n",
      " 16  Movie_Spoken_Language     4760 non-null   object \n",
      " 17  Movie_Tagline             3942 non-null   object \n",
      " 18  Movie_Cast                4733 non-null   object \n",
      " 19  Movie_Crew                4760 non-null   object \n",
      " 20  Movie_Director            4738 non-null   object \n",
      "dtypes: float64(3), int64(4), object(14)\n",
      "memory usage: 781.1+ KB\n"
     ]
    },
    {
     "data": {
      "text/plain": [
       "None"
      ]
     },
     "metadata": {},
     "output_type": "display_data"
    }
   ],
   "source": [
    "display(data.info())"
   ]
  },
  {
   "cell_type": "code",
   "execution_count": 5,
   "metadata": {
    "id": "NKu8XDNjMIot",
    "outputId": "66e381ed-733d-4638-b67a-fcf5d61c81a3"
   },
   "outputs": [
    {
     "data": {
      "text/plain": [
       "Index(['Movie_ID', 'Movie_Title', 'Movie_Genre', 'Movie_Language',\n",
       "       'Movie_Budget', 'Movie_Popularity', 'Movie_Release_Date',\n",
       "       'Movie_Revenue', 'Movie_Runtime', 'Movie_Vote', 'Movie_Vote_Count',\n",
       "       'Movie_Homepage', 'Movie_Keywords', 'Movie_Overview',\n",
       "       'Movie_Production_House', 'Movie_Production_Country',\n",
       "       'Movie_Spoken_Language', 'Movie_Tagline', 'Movie_Cast', 'Movie_Crew',\n",
       "       'Movie_Director'],\n",
       "      dtype='object')"
      ]
     },
     "metadata": {},
     "output_type": "display_data"
    }
   ],
   "source": [
    "display(data.columns)"
   ]
  },
  {
   "cell_type": "markdown",
   "metadata": {
    "id": "it4xOywjM37s"
   },
   "source": [
    "**Get Feature Selection**"
   ]
  },
  {
   "cell_type": "code",
   "execution_count": 6,
   "metadata": {
    "id": "xebbVdpxNGFI"
   },
   "outputs": [],
   "source": [
    "data_features = data[['Movie_Genre', 'Movie_Keywords', 'Movie_Tagline', 'Movie_Cast', 'Movie_Director']].fillna('')\n",
    "\n",
    "# Selected five existing features to recommend movies.\n",
    "# It may vary from one project to another.\n",
    "# Like one can add vote counts, budget, language etc."
   ]
  },
  {
   "cell_type": "code",
   "execution_count": 8,
   "metadata": {
    "id": "zqJFq8OhNhXC",
    "outputId": "3fab279b-07aa-44f8-b20f-d25a1431ab86"
   },
   "outputs": [
    {
     "data": {
      "text/html": [
       "<div>\n",
       "<style scoped>\n",
       "    .dataframe tbody tr th:only-of-type {\n",
       "        vertical-align: middle;\n",
       "    }\n",
       "\n",
       "    .dataframe tbody tr th {\n",
       "        vertical-align: top;\n",
       "    }\n",
       "\n",
       "    .dataframe thead th {\n",
       "        text-align: right;\n",
       "    }\n",
       "</style>\n",
       "<table border=\"1\" class=\"dataframe\">\n",
       "  <thead>\n",
       "    <tr style=\"text-align: right;\">\n",
       "      <th></th>\n",
       "      <th>Movie_Genre</th>\n",
       "      <th>Movie_Keywords</th>\n",
       "      <th>Movie_Tagline</th>\n",
       "      <th>Movie_Cast</th>\n",
       "      <th>Movie_Director</th>\n",
       "    </tr>\n",
       "  </thead>\n",
       "  <tbody>\n",
       "    <tr>\n",
       "      <th>0</th>\n",
       "      <td>Crime Comedy</td>\n",
       "      <td>hotel new year's eve witch bet hotel room</td>\n",
       "      <td>Twelve outrageous guests. Four scandalous requ...</td>\n",
       "      <td>Tim Roth Antonio Banderas Jennifer Beals Madon...</td>\n",
       "      <td>Allison Anders</td>\n",
       "    </tr>\n",
       "    <tr>\n",
       "      <th>1</th>\n",
       "      <td>Adventure Action Science Fiction</td>\n",
       "      <td>android galaxy hermit death star lightsaber</td>\n",
       "      <td>A long time ago in a galaxy far, far away...</td>\n",
       "      <td>Mark Hamill Harrison Ford Carrie Fisher Peter ...</td>\n",
       "      <td>George Lucas</td>\n",
       "    </tr>\n",
       "    <tr>\n",
       "      <th>2</th>\n",
       "      <td>Animation Family</td>\n",
       "      <td>father son relationship harbor underwater fish...</td>\n",
       "      <td>There are 3.7 trillion fish in the ocean, they...</td>\n",
       "      <td>Albert Brooks Ellen DeGeneres Alexander Gould ...</td>\n",
       "      <td>Andrew Stanton</td>\n",
       "    </tr>\n",
       "    <tr>\n",
       "      <th>3</th>\n",
       "      <td>Comedy Drama Romance</td>\n",
       "      <td>vietnam veteran hippie mentally disabled runni...</td>\n",
       "      <td>The world will never be the same, once you've ...</td>\n",
       "      <td>Tom Hanks Robin Wright Gary Sinise Mykelti Wil...</td>\n",
       "      <td>Robert Zemeckis</td>\n",
       "    </tr>\n",
       "    <tr>\n",
       "      <th>4</th>\n",
       "      <td>Drama</td>\n",
       "      <td>male nudity female nudity adultery midlife cri...</td>\n",
       "      <td>Look closer.</td>\n",
       "      <td>Kevin Spacey Annette Bening Thora Birch Wes Be...</td>\n",
       "      <td>Sam Mendes</td>\n",
       "    </tr>\n",
       "    <tr>\n",
       "      <th>...</th>\n",
       "      <td>...</td>\n",
       "      <td>...</td>\n",
       "      <td>...</td>\n",
       "      <td>...</td>\n",
       "      <td>...</td>\n",
       "    </tr>\n",
       "    <tr>\n",
       "      <th>4761</th>\n",
       "      <td>Horror</td>\n",
       "      <td></td>\n",
       "      <td>The hot spot where Satan's waitin'.</td>\n",
       "      <td>Lisa Hart Carroll Michael Des Barres Paul Drak...</td>\n",
       "      <td>Pece Dingo</td>\n",
       "    </tr>\n",
       "    <tr>\n",
       "      <th>4762</th>\n",
       "      <td>Comedy Family Drama</td>\n",
       "      <td></td>\n",
       "      <td>It’s better to stand out than to fit in.</td>\n",
       "      <td>Roni Akurati Brighton Sharbino Jason Lee Anjul...</td>\n",
       "      <td>Frank Lotito</td>\n",
       "    </tr>\n",
       "    <tr>\n",
       "      <th>4763</th>\n",
       "      <td>Thriller Drama</td>\n",
       "      <td>christian film sex trafficking</td>\n",
       "      <td>She never knew it could happen to her...</td>\n",
       "      <td>Nicole Smolen Kim Baldwin Ariana Stephens Brys...</td>\n",
       "      <td>Jaco Booyens</td>\n",
       "    </tr>\n",
       "    <tr>\n",
       "      <th>4764</th>\n",
       "      <td>Family</td>\n",
       "      <td></td>\n",
       "      <td></td>\n",
       "      <td></td>\n",
       "      <td></td>\n",
       "    </tr>\n",
       "    <tr>\n",
       "      <th>4765</th>\n",
       "      <td>Documentary</td>\n",
       "      <td>music actors legendary perfomer classic hollyw...</td>\n",
       "      <td></td>\n",
       "      <td>Tony Oppedisano</td>\n",
       "      <td>Simon Napier-Bell</td>\n",
       "    </tr>\n",
       "  </tbody>\n",
       "</table>\n",
       "<p>4766 rows × 5 columns</p>\n",
       "</div>"
      ],
      "text/plain": [
       "                           Movie_Genre  \\\n",
       "0                         Crime Comedy   \n",
       "1     Adventure Action Science Fiction   \n",
       "2                     Animation Family   \n",
       "3                 Comedy Drama Romance   \n",
       "4                                Drama   \n",
       "...                                ...   \n",
       "4761                            Horror   \n",
       "4762               Comedy Family Drama   \n",
       "4763                    Thriller Drama   \n",
       "4764                            Family   \n",
       "4765                       Documentary   \n",
       "\n",
       "                                         Movie_Keywords  \\\n",
       "0             hotel new year's eve witch bet hotel room   \n",
       "1           android galaxy hermit death star lightsaber   \n",
       "2     father son relationship harbor underwater fish...   \n",
       "3     vietnam veteran hippie mentally disabled runni...   \n",
       "4     male nudity female nudity adultery midlife cri...   \n",
       "...                                                 ...   \n",
       "4761                                                      \n",
       "4762                                                      \n",
       "4763                     christian film sex trafficking   \n",
       "4764                                                      \n",
       "4765  music actors legendary perfomer classic hollyw...   \n",
       "\n",
       "                                          Movie_Tagline  \\\n",
       "0     Twelve outrageous guests. Four scandalous requ...   \n",
       "1          A long time ago in a galaxy far, far away...   \n",
       "2     There are 3.7 trillion fish in the ocean, they...   \n",
       "3     The world will never be the same, once you've ...   \n",
       "4                                          Look closer.   \n",
       "...                                                 ...   \n",
       "4761                The hot spot where Satan's waitin'.   \n",
       "4762           It’s better to stand out than to fit in.   \n",
       "4763           She never knew it could happen to her...   \n",
       "4764                                                      \n",
       "4765                                                      \n",
       "\n",
       "                                             Movie_Cast     Movie_Director  \n",
       "0     Tim Roth Antonio Banderas Jennifer Beals Madon...     Allison Anders  \n",
       "1     Mark Hamill Harrison Ford Carrie Fisher Peter ...       George Lucas  \n",
       "2     Albert Brooks Ellen DeGeneres Alexander Gould ...     Andrew Stanton  \n",
       "3     Tom Hanks Robin Wright Gary Sinise Mykelti Wil...    Robert Zemeckis  \n",
       "4     Kevin Spacey Annette Bening Thora Birch Wes Be...         Sam Mendes  \n",
       "...                                                 ...                ...  \n",
       "4761  Lisa Hart Carroll Michael Des Barres Paul Drak...         Pece Dingo  \n",
       "4762  Roni Akurati Brighton Sharbino Jason Lee Anjul...       Frank Lotito  \n",
       "4763  Nicole Smolen Kim Baldwin Ariana Stephens Brys...       Jaco Booyens  \n",
       "4764                                                                        \n",
       "4765                                    Tony Oppedisano  Simon Napier-Bell  \n",
       "\n",
       "[4766 rows x 5 columns]"
      ]
     },
     "metadata": {},
     "output_type": "display_data"
    }
   ],
   "source": [
    "display(data_features)"
   ]
  },
  {
   "cell_type": "code",
   "execution_count": 7,
   "metadata": {
    "id": "O9zxlN73NvUh"
   },
   "outputs": [],
   "source": [
    "feature_text = data_features['Movie_Genre'] + ' ' + data_features['Movie_Keywords'] + ' ' + data_features['Movie_Tagline'] + ' ' + data_features['Movie_Cast'] + ' ' + data_features['Movie_Director']"
   ]
  },
  {
   "cell_type": "code",
   "execution_count": 8,
   "metadata": {
    "id": "WjKKbpudOhk4",
    "outputId": "687fe32f-4d3d-4026-8275-2c6ef3d6347d"
   },
   "outputs": [
    {
     "data": {
      "text/plain": [
       "0       Crime Comedy hotel new year's eve witch bet ho...\n",
       "1       Adventure Action Science Fiction android galax...\n",
       "2       Animation Family father son relationship harbo...\n",
       "3       Comedy Drama Romance vietnam veteran hippie me...\n",
       "4       Drama male nudity female nudity adultery midli...\n",
       "                              ...                        \n",
       "4755    Horror  The hot spot where Satan's waitin'. Li...\n",
       "4756    Comedy Family Drama  It’s better to stand out ...\n",
       "4757    Thriller Drama christian film sex trafficking ...\n",
       "4758                                           Family    \n",
       "4759    Documentary music actors legendary perfomer cl...\n",
       "Length: 4760, dtype: object"
      ]
     },
     "metadata": {},
     "output_type": "display_data"
    }
   ],
   "source": [
    "display(feature_text)"
   ]
  },
  {
   "cell_type": "markdown",
   "metadata": {
    "id": "o-JxyBfoOppH"
   },
   "source": [
    "**Convert feature text to tokens:**"
   ]
  },
  {
   "cell_type": "code",
   "execution_count": 9,
   "metadata": {
    "id": "658ObEmYO8jW"
   },
   "outputs": [],
   "source": [
    "from sklearn.feature_extraction.text import TfidfVectorizer\n",
    "\n",
    "tfidf = TfidfVectorizer()\n",
    "\n",
    "feature_text = tfidf.fit_transform(feature_text)"
   ]
  },
  {
   "cell_type": "code",
   "execution_count": 10,
   "metadata": {
    "id": "658ObEmYO8jW"
   },
   "outputs": [
    {
     "name": "stdout",
     "output_type": "stream",
     "text": [
      "  (0, 617)\t0.1633382144407513\n",
      "  (0, 492)\t0.1432591540388685\n",
      "  (0, 15413)\t0.1465525095337543\n",
      "  (0, 9675)\t0.14226057295252661\n",
      "  (0, 9465)\t0.1659841367820977\n",
      "  (0, 1390)\t0.16898383612799558\n",
      "  (0, 7825)\t0.09799561597509843\n",
      "  (0, 1214)\t0.13865857545144072\n",
      "  (0, 729)\t0.13415063359531618\n",
      "  (0, 13093)\t0.1432591540388685\n",
      "  (0, 15355)\t0.10477815972666779\n",
      "  (0, 9048)\t0.0866842116160778\n",
      "  (0, 11161)\t0.06250380151644369\n",
      "  (0, 16773)\t0.17654247479915475\n",
      "  (0, 5612)\t0.08603537588547631\n",
      "  (0, 16735)\t0.10690083751525419\n",
      "  (0, 7904)\t0.13348000542112332\n",
      "  (0, 15219)\t0.09800472886453934\n",
      "  (0, 11242)\t0.07277788238484746\n",
      "  (0, 3878)\t0.11998399582562203\n",
      "  (0, 5499)\t0.11454057510303811\n",
      "  (0, 7071)\t0.19822417598406614\n",
      "  (0, 7454)\t0.14745635785412262\n",
      "  (0, 1495)\t0.19712637387361423\n",
      "  (0, 9206)\t0.15186283580984414\n",
      "  :\t:\n",
      "  (4757, 5455)\t0.12491480594769522\n",
      "  (4757, 2967)\t0.16273475835631626\n",
      "  (4757, 8464)\t0.23522565554066333\n",
      "  (4757, 6938)\t0.17088173678136628\n",
      "  (4757, 8379)\t0.17480603856721913\n",
      "  (4757, 15303)\t0.07654356007668191\n",
      "  (4757, 15384)\t0.09754322497537371\n",
      "  (4757, 7649)\t0.11479421494340192\n",
      "  (4757, 10896)\t0.14546473055066447\n",
      "  (4757, 4494)\t0.05675298448720501\n",
      "  (4758, 5238)\t1.0\n",
      "  (4759, 11264)\t0.33947721804318337\n",
      "  (4759, 11708)\t0.33947721804318337\n",
      "  (4759, 205)\t0.3237911628497312\n",
      "  (4759, 8902)\t0.3040290704566037\n",
      "  (4759, 14062)\t0.3237911628497312\n",
      "  (4759, 3058)\t0.2812896191863103\n",
      "  (4759, 7130)\t0.26419662449963793\n",
      "  (4759, 10761)\t0.3126617295732147\n",
      "  (4759, 4358)\t0.18306542312175342\n",
      "  (4759, 14051)\t0.20084315377640435\n",
      "  (4759, 5690)\t0.19534291014627303\n",
      "  (4759, 15431)\t0.19628653185946862\n",
      "  (4759, 1490)\t0.21197258705292082\n",
      "  (4759, 10666)\t0.15888268987343043\n"
     ]
    }
   ],
   "source": [
    "print(feature_text)"
   ]
  },
  {
   "cell_type": "markdown",
   "metadata": {
    "id": "YTx_fpzWPhw6"
   },
   "source": [
    "**Get Similarity Score using Cosine Similarity:**"
   ]
  },
  {
   "cell_type": "code",
   "execution_count": 11,
   "metadata": {
    "id": "nQ6SsMwpQ2p_"
   },
   "outputs": [],
   "source": [
    "from sklearn.metrics.pairwise import cosine_similarity\n",
    "\n",
    "# cosine_similarity computes the L2-normalized dot product of vectors.\n",
    "# Euclidean(L2) normalization projects the vectors onto the unit sphere and their dot product is then the cosine of the angle between the points denoted by the vectors.\n",
    "\n",
    "Similarity_Score = cosine_similarity(feature_text)"
   ]
  },
  {
   "cell_type": "code",
   "execution_count": 12,
   "metadata": {
    "id": "9_RFJBGCRLDh",
    "outputId": "c91f9f20-021a-42ba-ef4f-7dac9f2f2641"
   },
   "outputs": [
    {
     "data": {
      "text/plain": [
       "array([[1.        , 0.01351235, 0.03570468, ..., 0.        , 0.        ,\n",
       "        0.        ],\n",
       "       [0.01351235, 1.        , 0.00806674, ..., 0.        , 0.        ,\n",
       "        0.        ],\n",
       "       [0.03570468, 0.00806674, 1.        , ..., 0.        , 0.08014876,\n",
       "        0.        ],\n",
       "       ...,\n",
       "       [0.        , 0.        , 0.        , ..., 1.        , 0.        ,\n",
       "        0.        ],\n",
       "       [0.        , 0.        , 0.08014876, ..., 0.        , 1.        ,\n",
       "        0.        ],\n",
       "       [0.        , 0.        , 0.        , ..., 0.        , 0.        ,\n",
       "        1.        ]])"
      ]
     },
     "metadata": {},
     "output_type": "display_data"
    }
   ],
   "source": [
    "display(Similarity_Score)"
   ]
  },
  {
   "cell_type": "code",
   "execution_count": 13,
   "metadata": {},
   "outputs": [
    {
     "data": {
      "text/plain": [
       "(4760, 4760)"
      ]
     },
     "metadata": {},
     "output_type": "display_data"
    }
   ],
   "source": [
    "display(Similarity_Score.shape)"
   ]
  },
  {
   "cell_type": "markdown",
   "metadata": {
    "id": "wDWKiOgURX7d"
   },
   "source": [
    "**Get movie name as input from user and validate for closest spelling:**"
   ]
  },
  {
   "cell_type": "code",
   "execution_count": 40,
   "metadata": {
    "id": "TAebMXhYRyE1",
    "outputId": "f096223c-d93b-4104-e3c4-39155f699efa"
   },
   "outputs": [
    {
     "name": "stdin",
     "output_type": "stream",
     "text": [
      "Enter your favourite movie name:  the dark knight\n"
     ]
    },
    {
     "name": "stdout",
     "output_type": "stream",
     "text": [
      "['The Dark Knight', 'Shark Night', 'The Dark Knight Rises']\n"
     ]
    }
   ],
   "source": [
    "import difflib\n",
    "\n",
    "Movie_Titles = data['Movie_Title'].tolist()\n",
    "#Movie_Titles = [str(title) for title in Movie_Titles]\n",
    "\n",
    "Favourite_Movie_Name = input('Enter your favourite movie name: ')\n",
    "\n",
    "Movie_Recommendation = difflib.get_close_matches(Favourite_Movie_Name, Movie_Titles)\n",
    "\n",
    "print(Movie_Recommendation)\n",
    "\n",
    "Close_Match = Movie_Recommendation[0]\n",
    "\n",
    "Index_of_Close_Match_Movie = data[data.Movie_Title == Close_Match]['Movie_ID'].values[0]\n",
    "\n",
    "Recommendation_Score = list(enumerate(Similarity_Score[Index_of_Close_Match_Movie]))\n",
    "\n",
    "# Sort all movies based on Recommendation Score with respect to Favourite Movie\n",
    "Sorted_Similar_movies = sorted(Recommendation_Score, key=lambda x:x[1], reverse=True)"
   ]
  },
  {
   "cell_type": "code",
   "execution_count": 41,
   "metadata": {
    "id": "vZaMBH_8Ui_v",
    "outputId": "b42cf926-ffeb-4561-97ce-d9bb205917bb"
   },
   "outputs": [
    {
     "name": "stdout",
     "output_type": "stream",
     "text": [
      "Top 30 Movies Suggested for You : \n",
      "\n",
      "1 . Star Trek III: The Search for Spock\n",
      "2 . Star Trek IV: The Voyage Home\n",
      "3 . Star Trek: The Motion Picture\n",
      "4 . Star Trek V: The Final Frontier\n",
      "5 . Star Trek VI: The Undiscovered Country\n",
      "6 . Star Trek II: The Wrath of Khan\n",
      "7 . Star Trek\n",
      "8 . Zambezia\n",
      "9 . Trekkies\n",
      "10 . Three Men and a Baby\n",
      "11 . The Helix... Loaded\n",
      "12 . Soldier\n",
      "13 . Planet 51\n",
      "14 . Virtuosity\n",
      "15 . Driven\n",
      "16 . Street Fighter: The Legend of Chun-Li\n",
      "17 . Born Of War\n",
      "18 . The I Inside\n",
      "19 . Out of Sight\n",
      "20 . Open Secret\n",
      "21 . The Lawnmower Man\n",
      "22 . Fiddler on the Roof\n",
      "23 . Bill & Ted's Bogus Journey\n",
      "24 . The Adjustment Bureau\n",
      "25 . All Hat\n",
      "26 . Puss in Boots\n",
      "27 . Higher Ground\n",
      "28 . Kingdom of the Spiders\n",
      "29 . Another Earth\n",
      "30 . The Blair Witch Project\n"
     ]
    }
   ],
   "source": [
    "print('Top 30 Movies Suggested for You : \\n')\n",
    "i = 1\n",
    "for movie in Sorted_Similar_movies:\n",
    "    index = movie[0]\n",
    "    title_from_index = data[data.index == index]['Movie_Title'].values[0]\n",
    "    if(i<31):\n",
    "        print(i, '.', title_from_index)\n",
    "        i += 1"
   ]
  },
  {
   "cell_type": "markdown",
   "metadata": {
    "id": "Tc_GSA6DVbJh"
   },
   "source": [
    "**Top 10 Movie Recommendation System**"
   ]
  },
  {
   "cell_type": "code",
   "execution_count": 44,
   "metadata": {
    "id": "j9uU7bL9VieF",
    "outputId": "7eca9d16-2966-4b49-ede2-95f5f5d123c6"
   },
   "outputs": [
    {
     "name": "stdin",
     "output_type": "stream",
     "text": [
      "Enter your favourite movie name:  the dark knight\n"
     ]
    },
    {
     "name": "stdout",
     "output_type": "stream",
     "text": [
      "Top 10 Movies suggested for you :\n",
      "\n",
      "1 . ['The Dark Knight']\n",
      "2 . ['K-PAX']\n",
      "3 . ['Akira']\n",
      "4 . ['28 Days Later']\n",
      "5 . ['20,000 Leagues Under the Sea']\n",
      "6 . ['Lost in Translation']\n",
      "7 . ['Doomsday']\n",
      "8 . ['The Velocity of Gary']\n",
      "9 . ['Only the Strong']\n",
      "10 . ['White Chicks']\n"
     ]
    }
   ],
   "source": [
    "Movie_Name = input('Enter your favourite movie name: ')\n",
    "\n",
    "list_of_all_titles = data['Movie_Title'].tolist()\n",
    "\n",
    "Find_Close_Match = difflib.get_close_matches(Movie_Name, list_of_all_titles)\n",
    "\n",
    "Close_Match = Find_Close_Match[0]\n",
    "\n",
    "Index_of_Movie = data[data.Movie_Title == Close_Match]['Movie_ID'].values[0]\n",
    "\n",
    "Recommendation_Score = list(enumerate(Similarity_Score[Index_of_Movie]))\n",
    "\n",
    "sorted_similar_movies = sorted(Recommendation_Score, key=lambda x:x[1], reverse=True)\n",
    "\n",
    "print('Top 10 Movies suggested for you :\\n')\n",
    "i = 1\n",
    "for movie in sorted_similar_movies:\n",
    "    index = movie[0]\n",
    "    title_from_index = data[data.Movie_ID == index]['Movie_Title'].values\n",
    "    if(i<11):\n",
    "        print(i, '.', title_from_index)\n",
    "        i += 1"
   ]
  }
 ],
 "metadata": {
  "kaggle": {
   "accelerator": "none",
   "dataSources": [
    {
     "datasetId": 5174312,
     "sourceId": 8640006,
     "sourceType": "datasetVersion"
    }
   ],
   "dockerImageVersionId": 30527,
   "isGpuEnabled": false,
   "isInternetEnabled": false,
   "language": "python",
   "sourceType": "notebook"
  },
  "kernelspec": {
   "display_name": "Python 3 (ipykernel)",
   "language": "python",
   "name": "python3"
  },
  "language_info": {
   "codemirror_mode": {
    "name": "ipython",
    "version": 3
   },
   "file_extension": ".py",
   "mimetype": "text/x-python",
   "name": "python",
   "nbconvert_exporter": "python",
   "pygments_lexer": "ipython3",
   "version": "3.12.5"
  }
 },
 "nbformat": 4,
 "nbformat_minor": 4
}
